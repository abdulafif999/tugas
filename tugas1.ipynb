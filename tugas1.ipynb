{
  "nbformat": 4,
  "nbformat_minor": 0,
  "metadata": {
    "colab": {
      "name": "Untitled21.ipynb",
      "provenance": [],
      "collapsed_sections": []
    },
    "kernelspec": {
      "name": "python3",
      "display_name": "Python 3"
    },
    "language_info": {
      "name": "python"
    }
  },
  "cells": [
    {
      "cell_type": "code",
      "metadata": {
        "colab": {
          "base_uri": "https://localhost:8080/",
          "height": 135
        },
        "id": "Zoic7fa8vW9d",
        "outputId": "42c8b994-1596-4f78-8e9e-30eeee520de5"
      },
      "source": [
        "In[2]:def donothing(x):\n",
        "         return x"
      ],
      "execution_count": 14,
      "outputs": [
        {
          "output_type": "error",
          "ename": "SyntaxError",
          "evalue": "ignored",
          "traceback": [
            "\u001b[0;36m  File \u001b[0;32m\"<ipython-input-14-8104b57cf3a1>\"\u001b[0;36m, line \u001b[0;32m1\u001b[0m\n\u001b[0;31m    In[2]:def donothing(x):\u001b[0m\n\u001b[0m            ^\u001b[0m\n\u001b[0;31mSyntaxError\u001b[0m\u001b[0;31m:\u001b[0m invalid syntax\n"
          ]
        }
      ]
    },
    {
      "cell_type": "code",
      "metadata": {
        "colab": {
          "base_uri": "https://localhost:8080/"
        },
        "id": "2YeveatP0LSb",
        "outputId": "ecd2e358-3f92-40a1-b089-8f36b0648bd0"
      },
      "source": [
        "In [3]: %paste \n",
        ">>> def donothing(x):\n",
        "...:  return x\n",
        "\n",
        "##End Paster Text\n",
        "\n",
        "\n",
        "In[4]:donothing(10)\n",
        "Out[4]:10\n"
      ],
      "execution_count": 21,
      "outputs": [
        {
          "output_type": "stream",
          "text": [
            "UsageError: Line magic function `%paste` not found.\n"
          ],
          "name": "stderr"
        }
      ]
    },
    {
      "cell_type": "code",
      "metadata": {
        "colab": {
          "base_uri": "https://localhost:8080/"
        },
        "id": "0u_42dPF0b3V",
        "outputId": "b14e17e8-7b43-429d-9895-553cfdb15255"
      },
      "source": [
        "In [5]: %cpaste\n",
        ">>> def donothing(x):\n",
        "...  return x"
      ],
      "execution_count": 28,
      "outputs": [
        {
          "output_type": "stream",
          "text": [
            "UsageError: Line magic function `%cpaste` not found.\n"
          ],
          "name": "stderr"
        }
      ]
    },
    {
      "cell_type": "code",
      "metadata": {
        "colab": {
          "base_uri": "https://localhost:8080/"
        },
        "id": "h4y9WtW31Km3",
        "outputId": "b679f3b2-ff91-4a12-9c10-87f467b12d1d"
      },
      "source": [
        "#-------------------------------------\n",
        "# file: myscript.py\n",
        "def square(x):\n",
        "  \"\"\"square a number\"\"\"\n",
        "  return x ** 2\n",
        "for N in range(1, 4):\n",
        "  print(N, \"squared is\", square(N))"
      ],
      "execution_count": 30,
      "outputs": [
        {
          "output_type": "stream",
          "text": [
            "1 squared is 1\n",
            "2 squared is 4\n",
            "3 squared is 9\n"
          ],
          "name": "stdout"
        }
      ]
    },
    {
      "cell_type": "code",
      "metadata": {
        "colab": {
          "base_uri": "https://localhost:8080/"
        },
        "id": "DaCNdyXY2j-d",
        "outputId": "72de3365-63ee-465a-899d-f3bbee8805d6"
      },
      "source": [
        "In [8]: %timeit L = [n ** 2 for n in range(1000)]\n"
      ],
      "execution_count": 32,
      "outputs": [
        {
          "output_type": "stream",
          "text": [
            "1000 loops, best of 5: 270 µs per loop\n"
          ],
          "name": "stdout"
        }
      ]
    },
    {
      "cell_type": "code",
      "metadata": {
        "colab": {
          "base_uri": "https://localhost:8080/"
        },
        "id": "lYcSgk6D20_h",
        "outputId": "b472c247-66d9-4019-fb7f-c1b526933a72"
      },
      "source": [
        "In [9]: %%timeit\n",
        "  L = []\n",
        "  for n in range(1000):\n",
        "    L.append(n ** 2)\n"
      ],
      "execution_count": 34,
      "outputs": [
        {
          "output_type": "stream",
          "text": [
            "1000 loops, best of 5: 325 µs per loop\n"
          ],
          "name": "stdout"
        }
      ]
    },
    {
      "cell_type": "code",
      "metadata": {
        "id": "YjSjhPZ33ELN"
      },
      "source": [
        "In [10]: %timeit?"
      ],
      "execution_count": 35,
      "outputs": []
    },
    {
      "cell_type": "code",
      "metadata": {
        "id": "wHY8ozbq3IKI"
      },
      "source": [
        "In [11]: %magic"
      ],
      "execution_count": null,
      "outputs": []
    },
    {
      "cell_type": "code",
      "metadata": {
        "id": "HtITH4nz3KdN"
      },
      "source": [
        "In [12]: %lsmagic"
      ],
      "execution_count": null,
      "outputs": []
    },
    {
      "cell_type": "code",
      "metadata": {
        "colab": {
          "base_uri": "https://localhost:8080/",
          "height": 135
        },
        "id": "6_vmuP5u3M2c",
        "outputId": "099ae22f-573c-4075-8aad-d3e8e388564b"
      },
      "source": [
        "In [1]: import math\n",
        "In [2]: math.sin(2)\n",
        "Out[2]: 0.9092974268256817\n",
        "In [3]: math.cos(2)\n",
        "Out[3]: -0.4161468365471424\n",
        "In [4]: print(In)\n",
        "['', 'import math', 'math.sin(2)', 'math.cos(2)', 'print(In)']\n",
        "In [5]: Out\n",
        "Out[5]: {2: 0.9092974268256817, 3: -0.4161468365471424}\n",
        "In [6]: print(In[1])\n",
        "import math\n",
        "In [7]: print(Out[2])\n",
        "0.9092974268256817\n",
        "In [8]: Out[2] ** 2 + Out[3] ** 2\n",
        "Out[8]: 1.0\n",
        "In [9]: print(_)\n",
        "1.0\n",
        "In [10]: print(__)\n",
        "-0.4161468365471424\n",
        "In [11]: print(___)\n",
        "0.9092974268256817\n",
        "In [12]: Out[2]\n",
        "Out[12]: 0.9092974268256817\n",
        "In [13]: _2\n",
        "Out[13]: 0.9092974268256817\n",
        "In [14]: math.sin(2) + math.cos(2);\n",
        "In [15]: 14 in Out\n",
        "Out[15]: False\n",
        "In [16]: %history -n 1-4:\n",
        "  1: import math\n",
        "  2: math.sin(2)\n",
        "  3: math.cos(2)\n",
        "  4: print(In)"
      ],
      "execution_count": 66,
      "outputs": [
        {
          "output_type": "error",
          "ename": "IndentationError",
          "evalue": "ignored",
          "traceback": [
            "\u001b[0;36m  File \u001b[0;32m\"<ipython-input-66-20527ebd72dd>\"\u001b[0;36m, line \u001b[0;32m30\u001b[0m\n\u001b[0;31m    1: import math\u001b[0m\n\u001b[0m    ^\u001b[0m\n\u001b[0;31mIndentationError\u001b[0m\u001b[0;31m:\u001b[0m unexpected indent\n"
          ]
        }
      ]
    },
    {
      "cell_type": "code",
      "metadata": {
        "colab": {
          "base_uri": "https://localhost:8080/",
          "height": 135
        },
        "id": "qLtxuJsq4wKP",
        "outputId": "a76e43ac-03cb-4e96-f4fa-ff2f26f05bcc"
      },
      "source": [
        "In [1]: !ls\n",
        "myproject.txt\n",
        "In [2]: !pwd\n",
        "/home/jake/projects/myproject\n",
        "In [3]: !echo \"printing from the shell\"\n",
        "printing from the shell\n",
        "In [4]: contents = !ls\n",
        "In [5]: print(contents)\n",
        "['myproject.txt']\n",
        "In [6]: directory = !pwd\n",
        "In [7]: print(directory)\n",
        "['/Users/jakevdp/notebooks/tmp/myproject']\n",
        "In [11]: !pwd\n",
        "/home/jake/projects/myproject\n",
        "In [12]: !cd ..\n",
        "In [13]: !pwd\n",
        "/home/jake/projects/myproject\n",
        "In [14]: %cd ..\n",
        "/home/jake/projects\n",
        "In [15]: cd myproject\n",
        "/home/jake/projects/myproject\n",
        "In [16]: mkdir tmp\n",
        "In [17]: ls\n",
        "myproject.txt tmp/\n",
        "In [18]: cp myproject.txt tmp/\n",
        "In [19]: ls tmp\n",
        "myproject.txt\n",
        "In [20]: rm -r tmp"
      ],
      "execution_count": 70,
      "outputs": [
        {
          "output_type": "error",
          "ename": "SyntaxError",
          "evalue": "ignored",
          "traceback": [
            "\u001b[0;36m  File \u001b[0;32m\"<ipython-input-70-d23c65f23fd1>\"\u001b[0;36m, line \u001b[0;32m4\u001b[0m\n\u001b[0;31m    home(/jake/projects/myproject)\u001b[0m\n\u001b[0m         ^\u001b[0m\n\u001b[0;31mSyntaxError\u001b[0m\u001b[0;31m:\u001b[0m invalid syntax\n"
          ]
        }
      ]
    }
  ]
}