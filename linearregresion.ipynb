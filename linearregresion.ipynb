{
  "nbformat": 4,
  "nbformat_minor": 0,
  "metadata": {
    "colab": {
      "name": "Untitled",
      "provenance": [],
      "collapsed_sections": [],
      "authorship_tag": "ABX9TyMWapXBvxUMd29EUDVxc0Pm",
      "include_colab_link": true
    },
    "kernelspec": {
      "name": "python3",
      "display_name": "Python 3"
    },
    "language_info": {
      "name": "python"
    }
  },
  "cells": [
    {
      "cell_type": "markdown",
      "metadata": {
        "id": "view-in-github",
        "colab_type": "text"
      },
      "source": [
        "<a href=\"https://colab.research.google.com/github/abdulafif999/tugas/blob/main/linearregresion.ipynb\" target=\"_parent\"><img src=\"https://colab.research.google.com/assets/colab-badge.svg\" alt=\"Open In Colab\"/></a>"
      ]
    },
    {
      "cell_type": "markdown",
      "metadata": {
        "id": "X6p8bYDQfr86"
      },
      "source": [
        "Berikut Merupakan Contoh Simple Linear Regeression dengan Data Saham Sesuai dengan video youtube"
      ]
    },
    {
      "cell_type": "markdown",
      "metadata": {
        "id": "2g7yp60sf0sP"
      },
      "source": [
        "1. membuat library dan dataset dengan data yang diambil adalah harga Saham Tinggi(high) dan Saham Penutup(close) serta melihat info data yang ada"
      ]
    },
    {
      "cell_type": "code",
      "metadata": {
        "colab": {
          "base_uri": "https://localhost:8080/"
        },
        "id": "l-hqZuF1S_fC",
        "outputId": "d4ff2bb6-40d3-4454-da74-1b96b3129ff2"
      },
      "source": [
        "import pandas as pd\n",
        "import matplotlib.pyplot as plt\n",
        "from sklearn.linear_model import LinearRegression\n",
        "from sklearn.model_selection import train_test_split\n",
        "\n",
        "df = pd.read_csv('prices-split-adjusted.csv', usecols=['high', 'close'])\n",
        "df.head()\n",
        "df.shape\n",
        "df.info()\n",
        "df.describe()\n",
        "df.isnull().sum()\n",
        "\n"
      ],
      "execution_count": 27,
      "outputs": [
        {
          "output_type": "stream",
          "text": [
            "<class 'pandas.core.frame.DataFrame'>\n",
            "RangeIndex: 851264 entries, 0 to 851263\n",
            "Data columns (total 2 columns):\n",
            " #   Column  Non-Null Count   Dtype  \n",
            "---  ------  --------------   -----  \n",
            " 0   close   851264 non-null  float64\n",
            " 1   high    851264 non-null  float64\n",
            "dtypes: float64(2)\n",
            "memory usage: 13.0 MB\n"
          ],
          "name": "stdout"
        },
        {
          "output_type": "execute_result",
          "data": {
            "text/plain": [
              "close    0\n",
              "high     0\n",
              "dtype: int64"
            ]
          },
          "metadata": {
            "tags": []
          },
          "execution_count": 27
        }
      ]
    },
    {
      "cell_type": "markdown",
      "metadata": {
        "id": "qoJvAcflgS8H"
      },
      "source": [
        "2. Melakukan Exploratory Data Analysis (EDA) untuk lebih mengenal data dan menemukan insights dari data."
      ]
    },
    {
      "cell_type": "code",
      "metadata": {
        "colab": {
          "base_uri": "https://localhost:8080/",
          "height": 265
        },
        "id": "sr9goMXnZmUq",
        "outputId": "879c3c85-a749-4743-a11f-efc2461cfa55"
      },
      "source": [
        "f = plt.figure(figsize=(12,4))\n",
        "f.add_subplot(1,2,1)\n",
        "df['close'].plot(kind='kde')\n",
        "f.add_subplot(1,2,2)\n",
        "plt.boxplot(df['close'])\n",
        "plt.show()"
      ],
      "execution_count": 12,
      "outputs": [
        {
          "output_type": "display_data",
          "data": {
            "image/png": "[encoded data removed]",
            "text/plain": [
              "<Figure size 864x288 with 2 Axes>"
            ]
          },
          "metadata": {
            "tags": [],
            "needs_background": "light"
          }
        }
      ]
    },
    {
      "cell_type": "code",
      "metadata": {
        "colab": {
          "base_uri": "https://localhost:8080/",
          "height": 265
        },
        "id": "ttDLzgLHaXl1",
        "outputId": "a8f26008-3f1f-4b5a-9f3d-747b52b68151"
      },
      "source": [
        "f = plt.figure(figsize=(12,4))\n",
        "f.add_subplot(1,2,1)\n",
        "df['high'].plot(kind='kde', c='g')\n",
        "f.add_subplot(1,2,2)\n",
        "plt.boxplot(df['high'])\n",
        "plt.show()"
      ],
      "execution_count": 13,
      "outputs": [
        {
          "output_type": "display_data",
          "data": {
            "image/png": "[encoded data removed]",
            "text/plain": [
              "<Figure size 864x288 with 2 Axes>"
            ]
          },
          "metadata": {
            "tags": [],
            "needs_background": "light"
          }
        }
      ]
    },
    {
      "cell_type": "code",
      "metadata": {
        "colab": {
          "base_uri": "https://localhost:8080/",
          "height": 295
        },
        "id": "O8UONZJ9a1O1",
        "outputId": "3f477b13-3b1b-4d2f-bb2c-f42857855481"
      },
      "source": [
        "#Outlier data\n",
        "plt.scatter(df['close'], df['high'])\n",
        "plt.xlabel('high')\n",
        "plt.ylabel('close')\n",
        "plt.title('Scatter Plot Harga Penutup vs Harga Tertinggi')\n",
        "plt.show()"
      ],
      "execution_count": 29,
      "outputs": [
        {
          "output_type": "display_data",
          "data": {
            "image/png": "[encoded data removed]",
            "text/plain": [
              "<Figure size 432x288 with 1 Axes>"
            ]
          },
          "metadata": {
            "tags": [],
            "needs_background": "light"
          }
        }
      ]
    },
    {
      "cell_type": "markdown",
      "metadata": {
        "id": "au6y1aIJguFH"
      },
      "source": [
        "3. Modelling"
      ]
    },
    {
      "cell_type": "code",
      "metadata": {
        "id": "4_dCDhnRdhGF"
      },
      "source": [
        "lin_reg.predict([[100]])"
      ],
      "execution_count": null,
      "outputs": []
    },
    {
      "cell_type": "code",
      "metadata": {
        "id": "ExEnmOfkbHPK"
      },
      "source": [
        "#Menentukan Variabel X dan Y sesuai dengan Video Youtube\n",
        "x = df['high'].values.reshape(-1,1)\n",
        "y = df['close'].values.reshape(-1,1)"
      ],
      "execution_count": 23,
      "outputs": []
    },
    {
      "cell_type": "code",
      "metadata": {
        "id": "Nsr607qQbtjV"
      },
      "source": [
        "#split Data\n",
        "x_train, x_test, y_train, y_test = train_test_split(x, y, test_size=0.2)"
      ],
      "execution_count": 22,
      "outputs": []
    },
    {
      "cell_type": "code",
      "metadata": {
        "id": "5-f8eJ1gb6Mf"
      },
      "source": [
        "#objek linear regresion\n",
        "lin_reg = LinearRegression()"
      ],
      "execution_count": 20,
      "outputs": []
    },
    {
      "cell_type": "code",
      "metadata": {
        "colab": {
          "base_uri": "https://localhost:8080/"
        },
        "id": "LtN_fyxeb-tx",
        "outputId": "80d919bd-face-4a77-8389-cf583026b963"
      },
      "source": [
        "#train data\n",
        "lin_reg.fit(x_train, y_train)"
      ],
      "execution_count": 24,
      "outputs": [
        {
          "output_type": "execute_result",
          "data": {
            "text/plain": [
              "LinearRegression(copy_X=True, fit_intercept=True, n_jobs=None, normalize=False)"
            ]
          },
          "metadata": {
            "tags": []
          },
          "execution_count": 24
        }
      ]
    },
    {
      "cell_type": "code",
      "metadata": {
        "id": "8Uqx0-8tcByl"
      },
      "source": [
        "#Mencari tau nilai Slope(m) dan intercept (b)\n",
        "print(lin_reg.coef_)\n",
        "print(lin_reg.intercept_)"
      ],
      "execution_count": null,
      "outputs": []
    },
    {
      "cell_type": "code",
      "metadata": {
        "colab": {
          "base_uri": "https://localhost:8080/"
        },
        "id": "JJtOPa06cG3P",
        "outputId": "e64a50c4-7b91-4116-a8fb-75174ce44494"
      },
      "source": [
        "#mencari tahu akurasi score\n",
        "lin_reg.score(x_test, y_test)"
      ],
      "execution_count": 25,
      "outputs": [
        {
          "output_type": "execute_result",
          "data": {
            "text/plain": [
              "0.9998442379185357"
            ]
          },
          "metadata": {
            "tags": []
          },
          "execution_count": 25
        }
      ]
    },
    {
      "cell_type": "code",
      "metadata": {
        "colab": {
          "base_uri": "https://localhost:8080/",
          "height": 313
        },
        "id": "tUGnTvmscLHw",
        "outputId": "6ccc8029-32da-4b52-cc0d-482f0424d960"
      },
      "source": [
        "#Visualisasikan\n",
        "y_prediksi = lin_reg.predict(x_test)\n",
        "plt.scatter(x_test, y_test)\n",
        "plt.plot(x_test, y_prediksi, c='r')\n",
        "plt.xlabel('high')\n",
        "plt.ylabel('close')\n",
        "plt.title('Plot Harga Tinggi vs Harga Penutup')"
      ],
      "execution_count": 31,
      "outputs": [
        {
          "output_type": "execute_result",
          "data": {
            "text/plain": [
              "Text(0.5, 1.0, 'Plot Harga Tinggi vs Harga Penutup')"
            ]
          },
          "metadata": {
            "tags": []
          },
          "execution_count": 31
        },
        {
          "output_type": "display_data",
          "data": {
            "image/png": "[encoded data removed]",
            "text/plain": [
              "<Figure size 432x288 with 1 Axes>"
            ]
          },
          "metadata": {
            "tags": [],
            "needs_background": "light"
          }
        }
      ]
    },
    {
      "cell_type": "code",
      "metadata": {
        "colab": {
          "base_uri": "https://localhost:8080/"
        },
        "id": "NXCrm5zudrTF",
        "outputId": "741822f5-a9d2-47de-a36f-fd448d3e5ec3"
      },
      "source": [
        "#Prediksi harga saham\n",
        "lin_reg.predict([[110]])\n",
        "lin_reg.predict([[120]])\n",
        "lin_reg.predict([[130]])"
      ],
      "execution_count": 32,
      "outputs": [
        {
          "output_type": "execute_result",
          "data": {
            "text/plain": [
              "array([[128.77481585]])"
            ]
          },
          "metadata": {
            "tags": []
          },
          "execution_count": 32
        }
      ]
    }
  ]
}