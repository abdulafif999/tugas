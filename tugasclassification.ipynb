{
  "nbformat": 4,
  "nbformat_minor": 0,
  "metadata": {
    "colab": {
      "name": "Untitled25.ipynb",
      "provenance": [],
      "collapsed_sections": [],
      "authorship_tag": "ABX9TyOfl351g/jWRf9c/i4d6+cI",
      "include_colab_link": true
    },
    "kernelspec": {
      "name": "python3",
      "display_name": "Python 3"
    },
    "language_info": {
      "name": "python"
    }
  },
  "cells": [
    {
      "cell_type": "markdown",
      "metadata": {
        "id": "view-in-github",
        "colab_type": "text"
      },
      "source": [
        "<a href=\"https://colab.research.google.com/github/abdulafif999/tugas/blob/main/tugasclassification.ipynb\" target=\"_parent\"><img src=\"https://colab.research.google.com/assets/colab-badge.svg\" alt=\"Open In Colab\"/></a>"
      ]
    },
    {
      "cell_type": "markdown",
      "metadata": {
        "id": "fi3TuLFsbrhJ"
      },
      "source": [
        "Naive Bayes Classification dengan Python Berdasarkan Video Youtube"
      ]
    },
    {
      "cell_type": "markdown",
      "metadata": {
        "id": "HBL1Vln9b-1M"
      },
      "source": [
        "1. membuat library dan dataset kemudian memuat informasi dari dataset tersebut"
      ]
    },
    {
      "cell_type": "code",
      "metadata": {
        "colab": {
          "base_uri": "https://localhost:8080/"
        },
        "id": "xBVFngcpmsza",
        "outputId": "af25da7c-cd39-4676-ad11-9b934d9fcb50"
      },
      "source": [
        "import pandas as pd\n",
        "import numpy as np\n",
        "import matplotlib.pyplot as plt\n",
        "import seaborn as sns\n",
        "from sklearn.naive_bayes import GaussianNB\n",
        "from sklearn.metrics import accuracy_score\n",
        "from sklearn.model_selection import train_test_split\n",
        "\n",
        "import warnings\n",
        "warnings.filterwarnings('ignore')\n",
        "\n",
        "df = pd.read_csv('bank.csv')\n",
        "df.head()\n",
        "df.shape\n",
        "df.info()\n",
        "df.describe()\n",
        "df.isnull().sum()"
      ],
      "execution_count": 22,
      "outputs": [
        {
          "output_type": "stream",
          "text": [
            "<class 'pandas.core.frame.DataFrame'>\n",
            "RangeIndex: 4521 entries, 0 to 4520\n",
            "Data columns (total 17 columns):\n",
            " #   Column     Non-Null Count  Dtype \n",
            "---  ------     --------------  ----- \n",
            " 0   age        4521 non-null   int64 \n",
            " 1   job        4521 non-null   object\n",
            " 2   marital    4521 non-null   object\n",
            " 3   education  4521 non-null   object\n",
            " 4   default    4521 non-null   object\n",
            " 5   balance    4521 non-null   int64 \n",
            " 6   housing    4521 non-null   object\n",
            " 7   loan       4521 non-null   object\n",
            " 8   contact    4521 non-null   object\n",
            " 9   day        4521 non-null   int64 \n",
            " 10  month      4521 non-null   object\n",
            " 11  duration   4521 non-null   int64 \n",
            " 12  campaign   4521 non-null   int64 \n",
            " 13  pdays      4521 non-null   int64 \n",
            " 14  previous   4521 non-null   int64 \n",
            " 15  poutcome   4521 non-null   object\n",
            " 16  y          4521 non-null   object\n",
            "dtypes: int64(7), object(10)\n",
            "memory usage: 600.6+ KB\n"
          ],
          "name": "stdout"
        },
        {
          "output_type": "execute_result",
          "data": {
            "text/plain": [
              "age          0\n",
              "job          0\n",
              "marital      0\n",
              "education    0\n",
              "default      0\n",
              "balance      0\n",
              "housing      0\n",
              "loan         0\n",
              "contact      0\n",
              "day          0\n",
              "month        0\n",
              "duration     0\n",
              "campaign     0\n",
              "pdays        0\n",
              "previous     0\n",
              "poutcome     0\n",
              "y            0\n",
              "dtype: int64"
            ]
          },
          "metadata": {
            "tags": []
          },
          "execution_count": 22
        }
      ]
    },
    {
      "cell_type": "markdown",
      "metadata": {
        "id": "2i68JcsNcztK"
      },
      "source": [
        "2. Melakukan Exploratory Data Analysis (EDA) untuk lebih mengenal data kita dan menemukan Karakteristik dari data."
      ]
    },
    {
      "cell_type": "code",
      "metadata": {
        "colab": {
          "base_uri": "https://localhost:8080/",
          "height": 297
        },
        "id": "i0yn3FxEo9rl",
        "outputId": "5d351a77-d677-4b80-b6d2-4794c573c879"
      },
      "source": [
        "sns.countplot(df['y'], color='red')"
      ],
      "execution_count": 4,
      "outputs": [
        {
          "output_type": "execute_result",
          "data": {
            "text/plain": [
              "<matplotlib.axes._subplots.AxesSubplot at 0x7fea50633790>"
            ]
          },
          "metadata": {
            "tags": []
          },
          "execution_count": 4
        },
        {
          "output_type": "display_data",
          "data": {
            "image/png": "[encoded data removed]",
            "text/plain": [
              "<Figure size 432x288 with 1 Axes>"
            ]
          },
          "metadata": {
            "tags": [],
            "needs_background": "light"
          }
        }
      ]
    },
    {
      "cell_type": "code",
      "metadata": {
        "colab": {
          "base_uri": "https://localhost:8080/",
          "height": 235
        },
        "id": "mPf2n443qWL_",
        "outputId": "0f36e44b-9d85-42a2-f1a0-5b3fd55f4f55"
      },
      "source": [
        "f = plt.figure(figsize=(20,4))\n",
        "f.add_subplot(1,2,1)\n",
        "sns.distplot(df['age'])\n",
        "f.add_subplot(1,2,2)\n",
        "sns.boxplot(df['age']);"
      ],
      "execution_count": 5,
      "outputs": [
        {
          "output_type": "display_data",
          "data": {
            "image/png": "[encoded data removed]",
            "text/plain": [
              "<Figure size 1440x288 with 2 Axes>"
            ]
          },
          "metadata": {
            "tags": [],
            "needs_background": "light"
          }
        }
      ]
    },
    {
      "cell_type": "code",
      "metadata": {
        "colab": {
          "base_uri": "https://localhost:8080/",
          "height": 252
        },
        "id": "Dt6SnoqwWxNj",
        "outputId": "e04bdf80-97bb-455f-8411-3b5271574cbb"
      },
      "source": [
        "f = plt.figure(figsize=(20,4))\n",
        "f.add_subplot(1,2,1)\n",
        "sns.distplot(df['balance'], color='green')\n",
        "f.add_subplot(1,2,2)\n",
        "sns.boxplot(df['balance'], color='green')"
      ],
      "execution_count": 6,
      "outputs": [
        {
          "output_type": "execute_result",
          "data": {
            "text/plain": [
              "<matplotlib.axes._subplots.AxesSubplot at 0x7fea4dcc8b10>"
            ]
          },
          "metadata": {
            "tags": []
          },
          "execution_count": 6
        },
        {
          "output_type": "display_data",
          "data": {
            "image/png": "[encoded data removed]",
            "text/plain": [
              "<Figure size 1440x288 with 2 Axes>"
            ]
          },
          "metadata": {
            "tags": [],
            "needs_background": "light"
          }
        }
      ]
    },
    {
      "cell_type": "code",
      "metadata": {
        "colab": {
          "base_uri": "https://localhost:8080/",
          "height": 190
        },
        "id": "OTw8XLKzqCtq",
        "outputId": "68ef89d7-e38c-4dca-ca78-ca858991fa75"
      },
      "source": [
        "df.corr().style.background_gradient().set_precision(2)"
      ],
      "execution_count": 33,
      "outputs": [
        {
          "output_type": "execute_result",
          "data": {
            "text/html": [
              "<style  type=\"text/css\" >\n",
              "#T_6510a5ba_b451_11eb_a7d7_0242ac1c0002row0_col0,#T_6510a5ba_b451_11eb_a7d7_0242ac1c0002row1_col1,#T_6510a5ba_b451_11eb_a7d7_0242ac1c0002row2_col2,#T_6510a5ba_b451_11eb_a7d7_0242ac1c0002row3_col3,#T_6510a5ba_b451_11eb_a7d7_0242ac1c0002row4_col4,#T_6510a5ba_b451_11eb_a7d7_0242ac1c0002row5_col5,#T_6510a5ba_b451_11eb_a7d7_0242ac1c0002row6_col6{\n",
              "            background-color:  #023858;\n",
              "            color:  #f1f1f1;\n",
              "        }#T_6510a5ba_b451_11eb_a7d7_0242ac1c0002row0_col1,#T_6510a5ba_b451_11eb_a7d7_0242ac1c0002row1_col0{\n",
              "            background-color:  #f0eaf4;\n",
              "            color:  #000000;\n",
              "        }#T_6510a5ba_b451_11eb_a7d7_0242ac1c0002row0_col2{\n",
              "            background-color:  #f5eef6;\n",
              "            color:  #000000;\n",
              "        }#T_6510a5ba_b451_11eb_a7d7_0242ac1c0002row0_col3,#T_6510a5ba_b451_11eb_a7d7_0242ac1c0002row0_col6{\n",
              "            background-color:  #f6eff7;\n",
              "            color:  #000000;\n",
              "        }#T_6510a5ba_b451_11eb_a7d7_0242ac1c0002row0_col4,#T_6510a5ba_b451_11eb_a7d7_0242ac1c0002row1_col2,#T_6510a5ba_b451_11eb_a7d7_0242ac1c0002row3_col6,#T_6510a5ba_b451_11eb_a7d7_0242ac1c0002row6_col3{\n",
              "            background-color:  #f3edf5;\n",
              "            color:  #000000;\n",
              "        }#T_6510a5ba_b451_11eb_a7d7_0242ac1c0002row0_col5,#T_6510a5ba_b451_11eb_a7d7_0242ac1c0002row1_col4{\n",
              "            background-color:  #f4edf6;\n",
              "            color:  #000000;\n",
              "        }#T_6510a5ba_b451_11eb_a7d7_0242ac1c0002row1_col3{\n",
              "            background-color:  #f8f1f8;\n",
              "            color:  #000000;\n",
              "        }#T_6510a5ba_b451_11eb_a7d7_0242ac1c0002row1_col5,#T_6510a5ba_b451_11eb_a7d7_0242ac1c0002row3_col5{\n",
              "            background-color:  #f1ebf4;\n",
              "            color:  #000000;\n",
              "        }#T_6510a5ba_b451_11eb_a7d7_0242ac1c0002row1_col6{\n",
              "            background-color:  #f2ecf5;\n",
              "            color:  #000000;\n",
              "        }#T_6510a5ba_b451_11eb_a7d7_0242ac1c0002row2_col0,#T_6510a5ba_b451_11eb_a7d7_0242ac1c0002row2_col5,#T_6510a5ba_b451_11eb_a7d7_0242ac1c0002row3_col1,#T_6510a5ba_b451_11eb_a7d7_0242ac1c0002row4_col3,#T_6510a5ba_b451_11eb_a7d7_0242ac1c0002row4_col5,#T_6510a5ba_b451_11eb_a7d7_0242ac1c0002row4_col6,#T_6510a5ba_b451_11eb_a7d7_0242ac1c0002row5_col2,#T_6510a5ba_b451_11eb_a7d7_0242ac1c0002row5_col4{\n",
              "            background-color:  #fff7fb;\n",
              "            color:  #000000;\n",
              "        }#T_6510a5ba_b451_11eb_a7d7_0242ac1c0002row2_col1,#T_6510a5ba_b451_11eb_a7d7_0242ac1c0002row4_col1{\n",
              "            background-color:  #fef6fb;\n",
              "            color:  #000000;\n",
              "        }#T_6510a5ba_b451_11eb_a7d7_0242ac1c0002row2_col3,#T_6510a5ba_b451_11eb_a7d7_0242ac1c0002row6_col1{\n",
              "            background-color:  #f9f2f8;\n",
              "            color:  #000000;\n",
              "        }#T_6510a5ba_b451_11eb_a7d7_0242ac1c0002row2_col4,#T_6510a5ba_b451_11eb_a7d7_0242ac1c0002row4_col2{\n",
              "            background-color:  #d4d4e8;\n",
              "            color:  #000000;\n",
              "        }#T_6510a5ba_b451_11eb_a7d7_0242ac1c0002row2_col6,#T_6510a5ba_b451_11eb_a7d7_0242ac1c0002row5_col0{\n",
              "            background-color:  #fef6fa;\n",
              "            color:  #000000;\n",
              "        }#T_6510a5ba_b451_11eb_a7d7_0242ac1c0002row3_col0,#T_6510a5ba_b451_11eb_a7d7_0242ac1c0002row4_col0,#T_6510a5ba_b451_11eb_a7d7_0242ac1c0002row6_col0{\n",
              "            background-color:  #fdf5fa;\n",
              "            color:  #000000;\n",
              "        }#T_6510a5ba_b451_11eb_a7d7_0242ac1c0002row3_col2{\n",
              "            background-color:  #f5eff6;\n",
              "            color:  #000000;\n",
              "        }#T_6510a5ba_b451_11eb_a7d7_0242ac1c0002row3_col4,#T_6510a5ba_b451_11eb_a7d7_0242ac1c0002row6_col4{\n",
              "            background-color:  #fcf4fa;\n",
              "            color:  #000000;\n",
              "        }#T_6510a5ba_b451_11eb_a7d7_0242ac1c0002row5_col1{\n",
              "            background-color:  #fbf4f9;\n",
              "            color:  #000000;\n",
              "        }#T_6510a5ba_b451_11eb_a7d7_0242ac1c0002row5_col3{\n",
              "            background-color:  #f4eef6;\n",
              "            color:  #000000;\n",
              "        }#T_6510a5ba_b451_11eb_a7d7_0242ac1c0002row5_col6{\n",
              "            background-color:  #4094c3;\n",
              "            color:  #000000;\n",
              "        }#T_6510a5ba_b451_11eb_a7d7_0242ac1c0002row6_col2{\n",
              "            background-color:  #faf3f9;\n",
              "            color:  #000000;\n",
              "        }#T_6510a5ba_b451_11eb_a7d7_0242ac1c0002row6_col5{\n",
              "            background-color:  #3b92c1;\n",
              "            color:  #000000;\n",
              "        }</style><table id=\"T_6510a5ba_b451_11eb_a7d7_0242ac1c0002\" ><thead>    <tr>        <th class=\"blank level0\" ></th>        <th class=\"col_heading level0 col0\" >age</th>        <th class=\"col_heading level0 col1\" >balance</th>        <th class=\"col_heading level0 col2\" >day</th>        <th class=\"col_heading level0 col3\" >duration</th>        <th class=\"col_heading level0 col4\" >campaign</th>        <th class=\"col_heading level0 col5\" >pdays</th>        <th class=\"col_heading level0 col6\" >previous</th>    </tr></thead><tbody>\n",
              "                <tr>\n",
              "                        <th id=\"T_6510a5ba_b451_11eb_a7d7_0242ac1c0002level0_row0\" class=\"row_heading level0 row0\" >age</th>\n",
              "                        <td id=\"T_6510a5ba_b451_11eb_a7d7_0242ac1c0002row0_col0\" class=\"data row0 col0\" >1.00</td>\n",
              "                        <td id=\"T_6510a5ba_b451_11eb_a7d7_0242ac1c0002row0_col1\" class=\"data row0 col1\" >0.08</td>\n",
              "                        <td id=\"T_6510a5ba_b451_11eb_a7d7_0242ac1c0002row0_col2\" class=\"data row0 col2\" >-0.02</td>\n",
              "                        <td id=\"T_6510a5ba_b451_11eb_a7d7_0242ac1c0002row0_col3\" class=\"data row0 col3\" >-0.00</td>\n",
              "                        <td id=\"T_6510a5ba_b451_11eb_a7d7_0242ac1c0002row0_col4\" class=\"data row0 col4\" >-0.01</td>\n",
              "                        <td id=\"T_6510a5ba_b451_11eb_a7d7_0242ac1c0002row0_col5\" class=\"data row0 col5\" >-0.01</td>\n",
              "                        <td id=\"T_6510a5ba_b451_11eb_a7d7_0242ac1c0002row0_col6\" class=\"data row0 col6\" >-0.00</td>\n",
              "            </tr>\n",
              "            <tr>\n",
              "                        <th id=\"T_6510a5ba_b451_11eb_a7d7_0242ac1c0002level0_row1\" class=\"row_heading level0 row1\" >balance</th>\n",
              "                        <td id=\"T_6510a5ba_b451_11eb_a7d7_0242ac1c0002row1_col0\" class=\"data row1 col0\" >0.08</td>\n",
              "                        <td id=\"T_6510a5ba_b451_11eb_a7d7_0242ac1c0002row1_col1\" class=\"data row1 col1\" >1.00</td>\n",
              "                        <td id=\"T_6510a5ba_b451_11eb_a7d7_0242ac1c0002row1_col2\" class=\"data row1 col2\" >-0.01</td>\n",
              "                        <td id=\"T_6510a5ba_b451_11eb_a7d7_0242ac1c0002row1_col3\" class=\"data row1 col3\" >-0.02</td>\n",
              "                        <td id=\"T_6510a5ba_b451_11eb_a7d7_0242ac1c0002row1_col4\" class=\"data row1 col4\" >-0.01</td>\n",
              "                        <td id=\"T_6510a5ba_b451_11eb_a7d7_0242ac1c0002row1_col5\" class=\"data row1 col5\" >0.01</td>\n",
              "                        <td id=\"T_6510a5ba_b451_11eb_a7d7_0242ac1c0002row1_col6\" class=\"data row1 col6\" >0.03</td>\n",
              "            </tr>\n",
              "            <tr>\n",
              "                        <th id=\"T_6510a5ba_b451_11eb_a7d7_0242ac1c0002level0_row2\" class=\"row_heading level0 row2\" >day</th>\n",
              "                        <td id=\"T_6510a5ba_b451_11eb_a7d7_0242ac1c0002row2_col0\" class=\"data row2 col0\" >-0.02</td>\n",
              "                        <td id=\"T_6510a5ba_b451_11eb_a7d7_0242ac1c0002row2_col1\" class=\"data row2 col1\" >-0.01</td>\n",
              "                        <td id=\"T_6510a5ba_b451_11eb_a7d7_0242ac1c0002row2_col2\" class=\"data row2 col2\" >1.00</td>\n",
              "                        <td id=\"T_6510a5ba_b451_11eb_a7d7_0242ac1c0002row2_col3\" class=\"data row2 col3\" >-0.02</td>\n",
              "                        <td id=\"T_6510a5ba_b451_11eb_a7d7_0242ac1c0002row2_col4\" class=\"data row2 col4\" >0.16</td>\n",
              "                        <td id=\"T_6510a5ba_b451_11eb_a7d7_0242ac1c0002row2_col5\" class=\"data row2 col5\" >-0.09</td>\n",
              "                        <td id=\"T_6510a5ba_b451_11eb_a7d7_0242ac1c0002row2_col6\" class=\"data row2 col6\" >-0.06</td>\n",
              "            </tr>\n",
              "            <tr>\n",
              "                        <th id=\"T_6510a5ba_b451_11eb_a7d7_0242ac1c0002level0_row3\" class=\"row_heading level0 row3\" >duration</th>\n",
              "                        <td id=\"T_6510a5ba_b451_11eb_a7d7_0242ac1c0002row3_col0\" class=\"data row3 col0\" >-0.00</td>\n",
              "                        <td id=\"T_6510a5ba_b451_11eb_a7d7_0242ac1c0002row3_col1\" class=\"data row3 col1\" >-0.02</td>\n",
              "                        <td id=\"T_6510a5ba_b451_11eb_a7d7_0242ac1c0002row3_col2\" class=\"data row3 col2\" >-0.02</td>\n",
              "                        <td id=\"T_6510a5ba_b451_11eb_a7d7_0242ac1c0002row3_col3\" class=\"data row3 col3\" >1.00</td>\n",
              "                        <td id=\"T_6510a5ba_b451_11eb_a7d7_0242ac1c0002row3_col4\" class=\"data row3 col4\" >-0.07</td>\n",
              "                        <td id=\"T_6510a5ba_b451_11eb_a7d7_0242ac1c0002row3_col5\" class=\"data row3 col5\" >0.01</td>\n",
              "                        <td id=\"T_6510a5ba_b451_11eb_a7d7_0242ac1c0002row3_col6\" class=\"data row3 col6\" >0.02</td>\n",
              "            </tr>\n",
              "            <tr>\n",
              "                        <th id=\"T_6510a5ba_b451_11eb_a7d7_0242ac1c0002level0_row4\" class=\"row_heading level0 row4\" >campaign</th>\n",
              "                        <td id=\"T_6510a5ba_b451_11eb_a7d7_0242ac1c0002row4_col0\" class=\"data row4 col0\" >-0.01</td>\n",
              "                        <td id=\"T_6510a5ba_b451_11eb_a7d7_0242ac1c0002row4_col1\" class=\"data row4 col1\" >-0.01</td>\n",
              "                        <td id=\"T_6510a5ba_b451_11eb_a7d7_0242ac1c0002row4_col2\" class=\"data row4 col2\" >0.16</td>\n",
              "                        <td id=\"T_6510a5ba_b451_11eb_a7d7_0242ac1c0002row4_col3\" class=\"data row4 col3\" >-0.07</td>\n",
              "                        <td id=\"T_6510a5ba_b451_11eb_a7d7_0242ac1c0002row4_col4\" class=\"data row4 col4\" >1.00</td>\n",
              "                        <td id=\"T_6510a5ba_b451_11eb_a7d7_0242ac1c0002row4_col5\" class=\"data row4 col5\" >-0.09</td>\n",
              "                        <td id=\"T_6510a5ba_b451_11eb_a7d7_0242ac1c0002row4_col6\" class=\"data row4 col6\" >-0.07</td>\n",
              "            </tr>\n",
              "            <tr>\n",
              "                        <th id=\"T_6510a5ba_b451_11eb_a7d7_0242ac1c0002level0_row5\" class=\"row_heading level0 row5\" >pdays</th>\n",
              "                        <td id=\"T_6510a5ba_b451_11eb_a7d7_0242ac1c0002row5_col0\" class=\"data row5 col0\" >-0.01</td>\n",
              "                        <td id=\"T_6510a5ba_b451_11eb_a7d7_0242ac1c0002row5_col1\" class=\"data row5 col1\" >0.01</td>\n",
              "                        <td id=\"T_6510a5ba_b451_11eb_a7d7_0242ac1c0002row5_col2\" class=\"data row5 col2\" >-0.09</td>\n",
              "                        <td id=\"T_6510a5ba_b451_11eb_a7d7_0242ac1c0002row5_col3\" class=\"data row5 col3\" >0.01</td>\n",
              "                        <td id=\"T_6510a5ba_b451_11eb_a7d7_0242ac1c0002row5_col4\" class=\"data row5 col4\" >-0.09</td>\n",
              "                        <td id=\"T_6510a5ba_b451_11eb_a7d7_0242ac1c0002row5_col5\" class=\"data row5 col5\" >1.00</td>\n",
              "                        <td id=\"T_6510a5ba_b451_11eb_a7d7_0242ac1c0002row5_col6\" class=\"data row5 col6\" >0.58</td>\n",
              "            </tr>\n",
              "            <tr>\n",
              "                        <th id=\"T_6510a5ba_b451_11eb_a7d7_0242ac1c0002level0_row6\" class=\"row_heading level0 row6\" >previous</th>\n",
              "                        <td id=\"T_6510a5ba_b451_11eb_a7d7_0242ac1c0002row6_col0\" class=\"data row6 col0\" >-0.00</td>\n",
              "                        <td id=\"T_6510a5ba_b451_11eb_a7d7_0242ac1c0002row6_col1\" class=\"data row6 col1\" >0.03</td>\n",
              "                        <td id=\"T_6510a5ba_b451_11eb_a7d7_0242ac1c0002row6_col2\" class=\"data row6 col2\" >-0.06</td>\n",
              "                        <td id=\"T_6510a5ba_b451_11eb_a7d7_0242ac1c0002row6_col3\" class=\"data row6 col3\" >0.02</td>\n",
              "                        <td id=\"T_6510a5ba_b451_11eb_a7d7_0242ac1c0002row6_col4\" class=\"data row6 col4\" >-0.07</td>\n",
              "                        <td id=\"T_6510a5ba_b451_11eb_a7d7_0242ac1c0002row6_col5\" class=\"data row6 col5\" >0.58</td>\n",
              "                        <td id=\"T_6510a5ba_b451_11eb_a7d7_0242ac1c0002row6_col6\" class=\"data row6 col6\" >1.00</td>\n",
              "            </tr>\n",
              "    </tbody></table>"
            ],
            "text/plain": [
              "<pandas.io.formats.style.Styler at 0x7fea48bb29d0>"
            ]
          },
          "metadata": {
            "tags": []
          },
          "execution_count": 33
        }
      ]
    },
    {
      "cell_type": "markdown",
      "metadata": {
        "id": "hYt_ZKhndEtY"
      },
      "source": [
        "3. Modelling, penjelasan dengan comment(#)"
      ]
    },
    {
      "cell_type": "code",
      "metadata": {
        "colab": {
          "base_uri": "https://localhost:8080/"
        },
        "id": "kNIrzxkWXe93",
        "outputId": "900ccdf1-39d5-496a-9264-7f6f50df00e1"
      },
      "source": [
        "nb = GaussianNB()\n",
        "\n",
        "#Membuat variabel x dan y.\n",
        "x = df.drop(columns=['y','job','marital','education','default','housing','loan','contact','day','month','poutcome'])\n",
        "y = df['y']\n",
        "\n",
        "#Split data kedalam train dan test\n",
        "x_train, x_test, y_train, y_test = train_test_split(x, y, test_size=0.2, random_state=4)\n",
        "\n",
        "#Training model\n",
        "nb.fit(x_train, y_train)\n",
        "\n",
        "#Predict testing set\n",
        "y_pred = nb.predict(x_test)\n",
        "\n",
        "#Check performance dari model\n",
        "print(accuracy_score(y_test, y_pred))"
      ],
      "execution_count": 32,
      "outputs": [
        {
          "output_type": "stream",
          "text": [
            "0.8662983425414365\n"
          ],
          "name": "stdout"
        }
      ]
    }
  ]
}